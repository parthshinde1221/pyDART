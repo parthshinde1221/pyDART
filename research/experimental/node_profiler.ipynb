{
 "cells": [
  {
   "cell_type": "markdown",
   "metadata": {},
   "source": [
    "# Final POC for profiling\n",
    "\n",
    "- Used for layer-wise profiling\n",
    "- Generates WCET and memort profiles for each layer excueted \n",
    "- a single isolated node"
   ]
  },
  {
   "cell_type": "code",
   "execution_count": null,
   "metadata": {},
   "outputs": [],
   "source": [
    "# placeholder\n",
    "import os"
   ]
  }
 ],
 "metadata": {
  "language_info": {
   "name": "python"
  }
 },
 "nbformat": 4,
 "nbformat_minor": 2
}
