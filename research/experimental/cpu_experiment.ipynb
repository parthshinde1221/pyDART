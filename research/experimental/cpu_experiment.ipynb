{
 "cells": [
  {
   "cell_type": "code",
   "execution_count": null,
   "metadata": {},
   "outputs": [],
   "source": [
    "import torch\n",
    "import multiprocessing\n",
    "import os\n",
    "\n",
    "# Function to set CPU affinity for a specific process\n",
    "def set_process_affinity(core_id):\n",
    "    pid = os.getpid()  # Get the current process ID\n",
    "    os.sched_setaffinity(pid, {core_id})  # Bind the process to specific core(s)\n",
    "\n",
    "# Function to perform PyTorch operations pinned to a specific CPU core\n",
    "def matrix_multiplication_shared_memory(core_id, shared_tensor, shape):\n",
    "    set_process_affinity(core_id)\n",
    "    print(f\"Process {os.getpid()} running on CPU core {core_id}\")\n",
    "\n",
    "    # Perform a matrix multiplication operation\n",
    "    x = torch.rand(shape)\n",
    "    y = torch.mm(x, x)  # Matrix multiplication\n",
    "\n",
    "    # Copy result to shared memory\n",
    "    with shared_tensor.get_lock():  # Synchronize access\n",
    "        shared_tensor_arr = torch.frombuffer(shared_tensor.get_obj(), dtype=torch.float32)\n",
    "        shared_tensor_arr[:] = y.flatten()  # Copy data to shared memory\n",
    "\n",
    "if __name__ == '__main__':\n",
    "    shape = (1000, 1000)\n",
    "    tensor_size = shape[0] * shape[1]\n",
    "\n",
    "    # Create a shared memory array for inter-process communication\n",
    "    shared_tensor = multiprocessing.Array('f', tensor_size)  # Shared memory of float32 type\n",
    "\n",
    "    # Create two separate processes assigned to different CPU cores\n",
    "    process_1 = multiprocessing.Process(target=matrix_multiplication_shared_memory, args=(0, shared_tensor, shape))\n",
    "    process_2 = multiprocessing.Process(target=matrix_multiplication_shared_memory, args=(1, shared_tensor, shape))\n",
    "\n",
    "    # Start the processes\n",
    "    process_1.start()\n",
    "    process_2.start()\n",
    "\n",
    "    # Wait for processes to complete\n",
    "    process_1.join()\n",
    "    process_2.join()\n",
    "\n",
    "    # Retrieve results from shared memory and reshape\n",
    "    result_tensor = torch.frombuffer(shared_tensor.get_obj(), dtype=torch.float32).reshape(shape)\n",
    "    print(f\"Result tensor from shared memory:\\n {result_tensor}\")\n"
   ]
  }
 ],
 "metadata": {
  "language_info": {
   "name": "python"
  }
 },
 "nbformat": 4,
 "nbformat_minor": 2
}
